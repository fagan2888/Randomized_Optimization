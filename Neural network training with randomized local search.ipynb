{
 "cells": [
  {
   "cell_type": "code",
   "execution_count": 144,
   "metadata": {},
   "outputs": [],
   "source": [
    "import numpy as np\n",
    "import pandas as pd\n",
    "import seaborn as sns\n",
    "import matplotlib.pyplot as plt\n",
    "from scipy import optimize\n",
    "from sklearn.datasets import make_classification\n",
    "\n",
    "from sklearn import preprocessing\n",
    "from sklearn.metrics import accuracy_score,f1_score\n",
    "import math\n",
    "import time"
   ]
  },
  {
   "cell_type": "code",
   "execution_count": 2,
   "metadata": {},
   "outputs": [],
   "source": [
    "import warnings; warnings.simplefilter('ignore')"
   ]
  },
  {
   "cell_type": "markdown",
   "metadata": {},
   "source": [
    "## Applying randomized optimization algorithms to a Multi-layer perceptron"
   ]
  },
  {
   "cell_type": "markdown",
   "metadata": {},
   "source": [
    "### Cosntruct the MLP class with 1 hidden layer which has following parameters and methods\n",
    "* Hidden layer size i.e. number of neurons\n",
    "* Choice of the optimization method for gradient based methods\n",
    "* Parameter for random weight initialization\n",
    "* **`Fit()`** method for gradient (Jacobian) and 2nd-derivative (Hessian) based optimization techniques\n",
    "* **`Fit_simplex()`** method for optimization through simple downhill descent (***derivative-free***)\n",
    "* **`Fit_anneal()`** method for optimization through simulated annealing (***derivative-free***)\n",
    "* **`Fit_de()`** method for optimization through differential evolution (from **genetic algorithm** class) (***derivative-free***) "
   ]
  },
  {
   "cell_type": "code",
   "execution_count": 91,
   "metadata": {},
   "outputs": [],
   "source": [
    "class NN_1HL(object):\n",
    "\n",
    "    def __init__(self, epsilon_init=0.12, hidden_layer_size=25, opti_method='TNC'):\n",
    "        #self.reg_lambda = reg_lambda\n",
    "        self.epsilon_init = epsilon_init\n",
    "        self.hidden_layer_size = hidden_layer_size\n",
    "        self.activation_func = self.sigmoid\n",
    "        self.activation_func_prime = self.sigmoid_prime\n",
    "        self.method = opti_method\n",
    "        #self.maxiter = maxiter\n",
    "\n",
    "    def sigmoid(self, z):\n",
    "        return 1 / (1 + np.exp(-z))\n",
    "\n",
    "    def sigmoid_prime(self, z):\n",
    "        sig = self.sigmoid(z)\n",
    "        return sig * (1 - sig)\n",
    "\n",
    "    def sumsqr(self, a):\n",
    "        return np.sum(a ** 2)\n",
    "\n",
    "    def rand_init(self, l_in, l_out):\n",
    "        self.epsilon_init = (math.sqrt(6))/(math.sqrt(l_in + l_out))\n",
    "        return np.random.rand(l_out, l_in + 1) * 2 * self.epsilon_init - self.epsilon_init\n",
    "\n",
    "    def pack_thetas(self, t1, t2):\n",
    "        return np.concatenate((t1.reshape(-1), t2.reshape(-1)))\n",
    "\n",
    "    def unpack_thetas(self, thetas, input_layer_size, hidden_layer_size, num_labels):\n",
    "        t1_start = 0\n",
    "        t1_end = hidden_layer_size * (input_layer_size + 1)\n",
    "        t1 = thetas[t1_start:t1_end].reshape((hidden_layer_size, input_layer_size + 1))\n",
    "        t2 = thetas[t1_end:].reshape((num_labels, hidden_layer_size + 1))\n",
    "        return t1, t2\n",
    "\n",
    "    def _forward(self, X, t1, t2):\n",
    "        m = X.shape[0]\n",
    "        ones = None\n",
    "        if len(X.shape) == 1:\n",
    "            ones = np.array(1).reshape(1,)\n",
    "        else:\n",
    "            ones = np.ones(m).reshape(m,1)\n",
    "\n",
    "        # Input layer\n",
    "        a1 = np.hstack((ones, X))\n",
    "\n",
    "        # Hidden Layer\n",
    "        z2 = np.dot(t1, a1.T)\n",
    "        a2 = self.activation_func(z2)\n",
    "        a2 = np.hstack((ones, a2.T))\n",
    "\n",
    "        # Output layer\n",
    "        z3 = np.dot(t2, a2.T)\n",
    "        a3 = self.activation_func(z3)\n",
    "        return a1, z2, a2, z3, a3\n",
    "\n",
    "    def function(self, thetas, input_layer_size, hidden_layer_size, num_labels, X, y, reg_lambda):\n",
    "        t1, t2 = self.unpack_thetas(thetas, input_layer_size, hidden_layer_size, num_labels)\n",
    "\n",
    "        m = X.shape[0]\n",
    "        Y = np.eye(num_labels)[y]\n",
    "\n",
    "        _, _, _, _, h = self._forward(X, t1, t2)\n",
    "        costPositive = -Y * np.log(h).T\n",
    "        costNegative = (1 - Y) * np.log(1 - h).T\n",
    "        cost = costPositive - costNegative\n",
    "        J = np.sum(cost) / m\n",
    "\n",
    "        #if reg_lambda != 0:\n",
    "            #t1f = t1[:, 1:]\n",
    "            #t2f = t2[:, 1:]\n",
    "            #reg = (self.reg_lambda / (2 * m)) * (self.sumsqr(t1f) + self.sumsqr(t2f))\n",
    "            #J = J + reg\n",
    "        return J\n",
    "\n",
    "    def function_prime(self, thetas, input_layer_size, hidden_layer_size, num_labels, X, y, reg_lambda):\n",
    "        t1, t2 = self.unpack_thetas(thetas, input_layer_size, hidden_layer_size, num_labels)\n",
    "\n",
    "        m = X.shape[0]\n",
    "        t1f = t1[:, 1:]\n",
    "        t2f = t2[:, 1:]\n",
    "        Y = np.eye(num_labels)[y]\n",
    "\n",
    "        Delta1, Delta2 = 0, 0\n",
    "        for i, row in enumerate(X):\n",
    "            a1, z2, a2, z3, a3 = self._forward(row, t1, t2)\n",
    "\n",
    "            # Backprop\n",
    "            d3 = a3 - Y[i, :].T\n",
    "            d2 = np.dot(t2f.T, d3) * self.activation_func_prime(z2)\n",
    "\n",
    "            Delta2 += np.dot(d3[np.newaxis].T, a2[np.newaxis])\n",
    "            Delta1 += np.dot(d2[np.newaxis].T, a1[np.newaxis])\n",
    "\n",
    "        Theta1_grad = (1 / m) * Delta1\n",
    "        Theta2_grad = (1 / m) * Delta2\n",
    "\n",
    "        if reg_lambda != 0:\n",
    "            Theta1_grad[:, 1:] = Theta1_grad[:, 1:] + (reg_lambda / m) * t1f\n",
    "            Theta2_grad[:, 1:] = Theta2_grad[:, 1:] + (reg_lambda / m) * t2f\n",
    "\n",
    "        return self.pack_thetas(Theta1_grad, Theta2_grad)\n",
    "\n",
    "    def fit(self, X, y):\n",
    "        \"\"\"\n",
    "        Fitting function using scipy.optimize.minimize routines\n",
    "        Mostly gradient based approaches\n",
    "        \"\"\"\n",
    "        num_features = X.shape[0]\n",
    "        input_layer_size = X.shape[1]\n",
    "        num_labels = len(set(y))\n",
    "\n",
    "        theta1_0 = self.rand_init(input_layer_size, self.hidden_layer_size)\n",
    "        theta2_0 = self.rand_init(self.hidden_layer_size, num_labels)\n",
    "        thetas0 = self.pack_thetas(theta1_0, theta2_0)\n",
    "\n",
    "        options = {'maxiter': self.maxiter}\n",
    "        _res = optimize.minimize(self.function, thetas0, jac=self.function_prime, method=self.method, \n",
    "                                 args=(input_layer_size, self.hidden_layer_size, num_labels, X, y, 0), \n",
    "                                 options=options)\n",
    "        \n",
    "        #print(_res)\n",
    "\n",
    "        self.t1, self.t2 = self.unpack_thetas(_res.x, input_layer_size, self.hidden_layer_size, num_labels)\n",
    "\n",
    "        np.savetxt(\"weights_t1.txt\", self.t1, newline=\"\\n\")\n",
    "        np.savetxt(\"weights_t2.txt\", self.t2, newline=\"\\n\")\n",
    "        \n",
    "    def fit_simplex(self, X, y,status=False,maxiter=10000):\n",
    "        \"\"\"\n",
    "        Fits simple hill climbing routine from Scipy.optimize module\n",
    "        \"\"\"\n",
    "        num_features = X.shape[0]\n",
    "        input_layer_size = X.shape[1]\n",
    "        num_labels = len(set(y))\n",
    "\n",
    "        theta1_0 = self.rand_init(input_layer_size, self.hidden_layer_size)\n",
    "        theta2_0 = self.rand_init(self.hidden_layer_size, num_labels)\n",
    "        thetas0 = self.pack_thetas(theta1_0, theta2_0)\n",
    "\n",
    "        options = {'maxiter': maxiter}\n",
    "        _res = optimize.fmin(self.function, thetas0, maxiter=maxiter,disp=status,\n",
    "                            args=(input_layer_size, self.hidden_layer_size, num_labels, X, y, 0))\n",
    "        \n",
    "        #_res=np.array(_res)\n",
    "        if status:\n",
    "            print(_res)\n",
    "\n",
    "        self.t1, self.t2 = self.unpack_thetas(_res, input_layer_size, self.hidden_layer_size, num_labels)\n",
    "\n",
    "        np.savetxt(\"weights_t1.txt\", self.t1, newline=\"\\n\")\n",
    "        np.savetxt(\"weights_t2.txt\", self.t2, newline=\"\\n\")\n",
    "        \n",
    "        return (_res)\n",
    "        \n",
    "    def fit_anneal(self, X, y,temp=None,status=False, maxiter=50):\n",
    "        \"\"\"\n",
    "        Fits a simulated annealing type algorithm from Scipy.optimize module\n",
    "        \"\"\"\n",
    "        num_features = X.shape[0]\n",
    "        input_layer_size = X.shape[1]\n",
    "        num_labels = len(set(y))\n",
    "\n",
    "        theta1_0 = self.rand_init(input_layer_size, self.hidden_layer_size)\n",
    "        theta2_0 = self.rand_init(self.hidden_layer_size, num_labels)\n",
    "        thetas0 = self.pack_thetas(theta1_0, theta2_0)\n",
    "\n",
    "        options = {'maxiter': maxiter}\n",
    "        \n",
    "        if temp!=None:\n",
    "            model_T=temp\n",
    "        \n",
    "        _res = optimize.basinhopping(self.function, thetas0, niter=maxiter,T=model_T,disp=status,\n",
    "                                    minimizer_kwargs={'args':(input_layer_size, self.hidden_layer_size, \n",
    "                                                              num_labels, X, y, 0)})\n",
    "        \n",
    "        if status:\n",
    "            print(_res)\n",
    "\n",
    "        self.t1, self.t2 = self.unpack_thetas(_res.x, input_layer_size, self.hidden_layer_size, num_labels)\n",
    "\n",
    "        np.savetxt(\"weights_t1.txt\", self.t1, newline=\"\\n\")\n",
    "        np.savetxt(\"weights_t2.txt\", self.t2, newline=\"\\n\")\n",
    "        \n",
    "    def fit_de(self, X, y,bound=10,status=False,strategy='best1bin',popsize=10,mutation=(0.5,1.0),\n",
    "              recombination=0.7,init='latinhypercube'):\n",
    "        \"\"\"\n",
    "        Fits a differential evolution algorithm (a variant of Genetic Algorithm)\n",
    "        bound: Bounds for variables\n",
    "        \"\"\"\n",
    "        num_features = X.shape[0]\n",
    "        input_layer_size = X.shape[1]\n",
    "        num_labels = len(set(y))\n",
    "\n",
    "        theta1_0 = self.rand_init(input_layer_size, self.hidden_layer_size)\n",
    "        theta2_0 = self.rand_init(self.hidden_layer_size, num_labels)\n",
    "        thetas0 = self.pack_thetas(theta1_0, theta2_0)\n",
    "\n",
    "        options = {'maxiter': self.maxiter}\n",
    "        \n",
    "        _res = optimize.differential_evolution(self.function, bounds=[(-bound,bound)]*len(thetas0), \n",
    "                                               maxiter=self.maxiter, disp=status,\n",
    "                                    args=(input_layer_size, self.hidden_layer_size,num_labels, X, y, 0))\n",
    "        \n",
    "        if status:\n",
    "            print(_res)\n",
    "\n",
    "        self.t1, self.t2 = self.unpack_thetas(_res.x, input_layer_size, self.hidden_layer_size, num_labels)\n",
    "\n",
    "        np.savetxt(\"weights_t1.txt\", self.t1, newline=\"\\n\")\n",
    "        np.savetxt(\"weights_t2.txt\", self.t2, newline=\"\\n\")\n",
    "\n",
    "    def predict(self, X):\n",
    "        return self.predict_proba(X).argmax(0)\n",
    "\n",
    "    def predict_proba(self, X):\n",
    "        _, _, _, _, h = self._forward(X, self.t1, self.t2)\n",
    "        return h"
   ]
  },
  {
   "cell_type": "markdown",
   "metadata": {},
   "source": [
    "### For test - create some synthetic data"
   ]
  },
  {
   "cell_type": "code",
   "execution_count": 49,
   "metadata": {},
   "outputs": [],
   "source": [
    "data = make_classification(n_samples=2000,n_features=10,n_informative=8,\n",
    "                           n_classes=2,n_redundant=2,class_sep=0.5,flip_y=0.1,random_state=101)"
   ]
  },
  {
   "cell_type": "code",
   "execution_count": 50,
   "metadata": {},
   "outputs": [],
   "source": [
    "features=data[0]\n",
    "response=data[1]\n",
    "full_data=np.column_stack((features,response))"
   ]
  },
  {
   "cell_type": "code",
   "execution_count": 51,
   "metadata": {},
   "outputs": [],
   "source": [
    "df=pd.DataFrame(full_data,columns=['X'+str(i) for i in range(10)]+['y'])"
   ]
  },
  {
   "cell_type": "code",
   "execution_count": 52,
   "metadata": {},
   "outputs": [
    {
     "data": {
      "text/html": [
       "<div>\n",
       "<style scoped>\n",
       "    .dataframe tbody tr th:only-of-type {\n",
       "        vertical-align: middle;\n",
       "    }\n",
       "\n",
       "    .dataframe tbody tr th {\n",
       "        vertical-align: top;\n",
       "    }\n",
       "\n",
       "    .dataframe thead th {\n",
       "        text-align: right;\n",
       "    }\n",
       "</style>\n",
       "<table border=\"1\" class=\"dataframe\">\n",
       "  <thead>\n",
       "    <tr style=\"text-align: right;\">\n",
       "      <th></th>\n",
       "      <th>X0</th>\n",
       "      <th>X1</th>\n",
       "      <th>X2</th>\n",
       "      <th>X3</th>\n",
       "      <th>X4</th>\n",
       "      <th>X5</th>\n",
       "      <th>X6</th>\n",
       "      <th>X7</th>\n",
       "      <th>X8</th>\n",
       "      <th>X9</th>\n",
       "      <th>y</th>\n",
       "    </tr>\n",
       "  </thead>\n",
       "  <tbody>\n",
       "    <tr>\n",
       "      <th>0</th>\n",
       "      <td>1.003426</td>\n",
       "      <td>-2.312380</td>\n",
       "      <td>0.318618</td>\n",
       "      <td>6.073289</td>\n",
       "      <td>3.155619</td>\n",
       "      <td>-1.242528</td>\n",
       "      <td>3.512543</td>\n",
       "      <td>3.100110</td>\n",
       "      <td>-2.796763</td>\n",
       "      <td>-0.909995</td>\n",
       "      <td>1.0</td>\n",
       "    </tr>\n",
       "    <tr>\n",
       "      <th>1</th>\n",
       "      <td>-1.636250</td>\n",
       "      <td>-3.344617</td>\n",
       "      <td>-3.444260</td>\n",
       "      <td>2.343867</td>\n",
       "      <td>-0.387346</td>\n",
       "      <td>1.909461</td>\n",
       "      <td>2.755389</td>\n",
       "      <td>-0.058569</td>\n",
       "      <td>1.510011</td>\n",
       "      <td>-1.796563</td>\n",
       "      <td>0.0</td>\n",
       "    </tr>\n",
       "    <tr>\n",
       "      <th>2</th>\n",
       "      <td>2.507000</td>\n",
       "      <td>-1.860780</td>\n",
       "      <td>-1.146980</td>\n",
       "      <td>-0.133214</td>\n",
       "      <td>0.677580</td>\n",
       "      <td>1.821212</td>\n",
       "      <td>2.230431</td>\n",
       "      <td>0.020075</td>\n",
       "      <td>-0.156822</td>\n",
       "      <td>1.313318</td>\n",
       "      <td>0.0</td>\n",
       "    </tr>\n",
       "    <tr>\n",
       "      <th>3</th>\n",
       "      <td>-0.647876</td>\n",
       "      <td>0.666496</td>\n",
       "      <td>-1.818128</td>\n",
       "      <td>1.648000</td>\n",
       "      <td>0.155004</td>\n",
       "      <td>1.388657</td>\n",
       "      <td>-1.425870</td>\n",
       "      <td>1.056784</td>\n",
       "      <td>2.652186</td>\n",
       "      <td>-1.503872</td>\n",
       "      <td>1.0</td>\n",
       "    </tr>\n",
       "    <tr>\n",
       "      <th>4</th>\n",
       "      <td>-1.915191</td>\n",
       "      <td>1.401883</td>\n",
       "      <td>0.297260</td>\n",
       "      <td>1.857918</td>\n",
       "      <td>0.907377</td>\n",
       "      <td>0.144483</td>\n",
       "      <td>-0.700599</td>\n",
       "      <td>-1.091122</td>\n",
       "      <td>2.420557</td>\n",
       "      <td>-2.813451</td>\n",
       "      <td>0.0</td>\n",
       "    </tr>\n",
       "  </tbody>\n",
       "</table>\n",
       "</div>"
      ],
      "text/plain": [
       "         X0        X1        X2        X3        X4        X5        X6  \\\n",
       "0  1.003426 -2.312380  0.318618  6.073289  3.155619 -1.242528  3.512543   \n",
       "1 -1.636250 -3.344617 -3.444260  2.343867 -0.387346  1.909461  2.755389   \n",
       "2  2.507000 -1.860780 -1.146980 -0.133214  0.677580  1.821212  2.230431   \n",
       "3 -0.647876  0.666496 -1.818128  1.648000  0.155004  1.388657 -1.425870   \n",
       "4 -1.915191  1.401883  0.297260  1.857918  0.907377  0.144483 -0.700599   \n",
       "\n",
       "         X7        X8        X9    y  \n",
       "0  3.100110 -2.796763 -0.909995  1.0  \n",
       "1 -0.058569  1.510011 -1.796563  0.0  \n",
       "2  0.020075 -0.156822  1.313318  0.0  \n",
       "3  1.056784  2.652186 -1.503872  1.0  \n",
       "4 -1.091122  2.420557 -2.813451  0.0  "
      ]
     },
     "execution_count": 52,
     "metadata": {},
     "output_type": "execute_result"
    }
   ],
   "source": [
    "df.head()"
   ]
  },
  {
   "cell_type": "markdown",
   "metadata": {},
   "source": [
    "### Visualize\n",
    "\n",
    "We plot histograms, boxlots and scatterplots of the dataset and observe that the **class separation is not very obvious**. Particularly, boxplots show lot of overlap between features for two output classes.\n",
    "\n",
    "So, this should be a **non-trivial classification task.**"
   ]
  },
  {
   "cell_type": "code",
   "execution_count": null,
   "metadata": {},
   "outputs": [],
   "source": [
    "i=1\n",
    "plt.figure(figsize=(20,20))\n",
    "for c in df.describe().columns[:-1]:\n",
    "    plt.subplot(4,3,i)\n",
    "    plt.title(f\"Histogram of {c}\",fontsize=16)\n",
    "    plt.yticks(fontsize=12)\n",
    "    plt.xticks(fontsize=12)\n",
    "    plt.hist(df[c],bins=20,color='orange',edgecolor='k')\n",
    "    i+=1\n",
    "plt.show()"
   ]
  },
  {
   "cell_type": "code",
   "execution_count": null,
   "metadata": {},
   "outputs": [],
   "source": [
    "i=1\n",
    "plt.figure(figsize=(20,20))\n",
    "for c in df.columns[:-1]:\n",
    "    plt.subplot(4,3,i)\n",
    "    plt.title(f\"Boxplot of {c}\",fontsize=16)\n",
    "    plt.yticks(fontsize=12)\n",
    "    plt.xticks(fontsize=12)\n",
    "    sns.boxplot(y=df[c],x=df['y'])\n",
    "    i+=1\n",
    "plt.show()"
   ]
  },
  {
   "cell_type": "code",
   "execution_count": null,
   "metadata": {},
   "outputs": [],
   "source": [
    "df_sample=df.sample(n=50)\n",
    "sns.set(style=\"ticks\", color_codes=True)\n",
    "g=sns.pairplot(df_sample,vars=['X0','X1','X2'],\n",
    "               plot_kws=dict(s=50, edgecolor=\"b\", linewidth=1,alpha=0.75),\n",
    "               hue=\"y\",markers=[\"o\", \"s\"], diag_kind=\"kde\",diag_kws=dict(shade=True), size=4)"
   ]
  },
  {
   "cell_type": "markdown",
   "metadata": {},
   "source": [
    "### Save the data in a text file"
   ]
  },
  {
   "cell_type": "code",
   "execution_count": 56,
   "metadata": {},
   "outputs": [],
   "source": [
    "np.savetxt('scipy_test.txt',X=full_data,delimiter=', ')"
   ]
  },
  {
   "cell_type": "markdown",
   "metadata": {},
   "source": [
    "### Read the data from the file"
   ]
  },
  {
   "cell_type": "code",
   "execution_count": 57,
   "metadata": {},
   "outputs": [],
   "source": [
    "values = np.loadtxt('scipy_test.txt', delimiter=', ', usecols=[i for i in range(10)])\n",
    "targets = np.loadtxt('scipy_test.txt', delimiter=', ', dtype=(int), usecols=[10])"
   ]
  },
  {
   "cell_type": "markdown",
   "metadata": {},
   "source": [
    "### Standard scaling and min/max scaling"
   ]
  },
  {
   "cell_type": "code",
   "execution_count": 58,
   "metadata": {},
   "outputs": [],
   "source": [
    "from sklearn.preprocessing import StandardScaler\n",
    "from sklearn.preprocessing import MinMaxScaler"
   ]
  },
  {
   "cell_type": "code",
   "execution_count": 59,
   "metadata": {},
   "outputs": [],
   "source": [
    "sc=StandardScaler()\n",
    "mms = MinMaxScaler()"
   ]
  },
  {
   "cell_type": "code",
   "execution_count": 60,
   "metadata": {},
   "outputs": [],
   "source": [
    "values_scaled=sc.fit_transform(values)\n",
    "values_minmax=mms.fit_transform(values)"
   ]
  },
  {
   "cell_type": "markdown",
   "metadata": {},
   "source": [
    "### Train/test split"
   ]
  },
  {
   "cell_type": "code",
   "execution_count": 39,
   "metadata": {},
   "outputs": [],
   "source": [
    "from sklearn.model_selection import train_test_split"
   ]
  },
  {
   "cell_type": "code",
   "execution_count": 73,
   "metadata": {},
   "outputs": [],
   "source": [
    "X_train, X_test, y_train, y_test = train_test_split(values, targets, test_size=0.3,random_state=101)"
   ]
  },
  {
   "cell_type": "code",
   "execution_count": 74,
   "metadata": {},
   "outputs": [],
   "source": [
    "X_val, X_test, y_val, y_test = train_test_split(X_test, y_test, test_size=0.5,random_state=101)"
   ]
  },
  {
   "cell_type": "code",
   "execution_count": null,
   "metadata": {},
   "outputs": [],
   "source": [
    "#X_train_scaled, X_test_scaled, y_train_scaled, y_test_scaled = cross_validation.train_test_split(values_scaled, targets, test_size=0.4)"
   ]
  },
  {
   "cell_type": "code",
   "execution_count": null,
   "metadata": {},
   "outputs": [],
   "source": [
    "#X_train_minmax, X_test_minmax, y_train_minmax, y_test_minmax = cross_validation.train_test_split(values_minmax, targets, test_size=0.4)"
   ]
  },
  {
   "cell_type": "markdown",
   "metadata": {},
   "source": [
    "## With <span style=color:blue>simple hill climb (descent)</span> algorithm"
   ]
  },
  {
   "cell_type": "code",
   "execution_count": 95,
   "metadata": {},
   "outputs": [
    {
     "name": "stdout",
     "output_type": "stream",
     "text": [
      "Accuracy of classification: 0.48\n",
      "F1 score of classification: 0.4264705882352941\n"
     ]
    }
   ],
   "source": [
    "nn = NN_1HL(hidden_layer_size=5)\n",
    "_res=nn.fit_simplex(X_train, y_train,maxiter=1000)\n",
    "print(\"Accuracy of classification: \"+str(accuracy_score(y_val, nn.predict(X_val))))\n",
    "print(\"F1 score of classification: \"+str(f1_score(y_val, nn.predict(X_val))))"
   ]
  },
  {
   "cell_type": "markdown",
   "metadata": {},
   "source": [
    "### Random restart with 1000 iterations max"
   ]
  },
  {
   "cell_type": "code",
   "execution_count": 128,
   "metadata": {},
   "outputs": [
    {
     "name": "stdout",
     "output_type": "stream",
     "text": [
      "Done for:  1\n",
      "Done for:  2\n",
      "Done for:  3\n",
      "Done for:  4\n",
      "Done for:  5\n",
      "Done for:  6\n",
      "Done for:  7\n",
      "Done for:  8\n",
      "Done for:  9\n",
      "Done for:  10\n",
      "Done for:  11\n",
      "Done for:  12\n",
      "Done for:  13\n",
      "Done for:  14\n",
      "Done for:  15\n",
      "Done for:  16\n",
      "Done for:  17\n",
      "Done for:  18\n",
      "Done for:  19\n",
      "Done for:  20\n",
      "Done for:  21\n",
      "Done for:  22\n",
      "Done for:  23\n",
      "Done for:  24\n",
      "Done for:  25\n"
     ]
    }
   ],
   "source": [
    "random_restart_accuracy=[]\n",
    "random_restart_f1=[]\n",
    "\n",
    "n_restart=25\n",
    "nn = NN_1HL(hidden_layer_size=5)\n",
    "for i in range(n_restart):\n",
    "    nn.fit_simplex(X_train, y_train,maxiter=1000)\n",
    "    random_restart_accuracy.append(accuracy_score(y_val, nn.predict(X_val)))\n",
    "    random_restart_f1.append(f1_score(y_val, nn.predict(X_val)))\n",
    "    print(\"Done for: \",i+1)"
   ]
  },
  {
   "cell_type": "code",
   "execution_count": 129,
   "metadata": {},
   "outputs": [
    {
     "data": {
      "image/png": "[encoded data removed]",
      "text/plain": [
       "<matplotlib.figure.Figure at 0x138812d3da0>"
      ]
     },
     "metadata": {},
     "output_type": "display_data"
    }
   ],
   "source": [
    "plt.figure(figsize=(7,4))\n",
    "plt.title(\"Neural net training using random restart hill climbing\\n(max iterations =1000)\",fontsize=15)\n",
    "plt.plot(random_restart_accuracy,'bo',ls='--',c='red')\n",
    "plt.plot(random_restart_f1,'bo',ls='-',c='blue')\n",
    "plt.grid(True)\n",
    "plt.xticks([i for i in range(0,26,5)])\n",
    "plt.xlabel(\"Optimization #\",fontsize=15)\n",
    "plt.ylabel(\"Accuracy\",fontsize=15)\n",
    "plt.legend(['Accuracy','F1-score'])\n",
    "plt.ylim(0,0.8)\n",
    "plt.show()"
   ]
  },
  {
   "cell_type": "markdown",
   "metadata": {},
   "source": [
    "### Random restart with 5000 iterations max"
   ]
  },
  {
   "cell_type": "code",
   "execution_count": 124,
   "metadata": {},
   "outputs": [
    {
     "name": "stdout",
     "output_type": "stream",
     "text": [
      "Done for:  1\n",
      "Done for:  2\n",
      "Done for:  3\n",
      "Done for:  4\n",
      "Done for:  5\n",
      "Done for:  6\n",
      "Done for:  7\n",
      "Done for:  8\n",
      "Done for:  9\n",
      "Done for:  10\n",
      "Done for:  11\n",
      "Done for:  12\n",
      "Done for:  13\n",
      "Done for:  14\n",
      "Done for:  15\n",
      "Done for:  16\n",
      "Done for:  17\n",
      "Done for:  18\n",
      "Done for:  19\n",
      "Done for:  20\n",
      "Done for:  21\n",
      "Done for:  22\n",
      "Done for:  23\n",
      "Done for:  24\n",
      "Done for:  25\n"
     ]
    }
   ],
   "source": [
    "random_restart_accuracy=[]\n",
    "random_restart_f1=[]\n",
    "\n",
    "n_restart=25\n",
    "nn = NN_1HL(hidden_layer_size=5)\n",
    "for i in range(n_restart):\n",
    "    nn.fit_simplex(X_train, y_train,maxiter=5000)\n",
    "    random_restart_accuracy.append(accuracy_score(y_val, nn.predict(X_val)))\n",
    "    random_restart_f1.append(f1_score(y_val, nn.predict(X_val)))\n",
    "    print(\"Done for: \",i+1)"
   ]
  },
  {
   "cell_type": "code",
   "execution_count": 127,
   "metadata": {},
   "outputs": [
    {
     "data": {
      "image/png": "[encoded data removed]",
      "text/plain": [
       "<matplotlib.figure.Figure at 0x138810a7908>"
      ]
     },
     "metadata": {},
     "output_type": "display_data"
    }
   ],
   "source": [
    "plt.figure(figsize=(7,4))\n",
    "plt.title(\"Neural net training using random restart hill climbing\\n(max iterations =5000)\",fontsize=15)\n",
    "plt.plot(random_restart_accuracy,'bo',ls='--',c='red')\n",
    "plt.plot(random_restart_f1,'bo',ls='-',c='blue')\n",
    "plt.grid(True)\n",
    "plt.xticks([i for i in range(0,26,5)])\n",
    "plt.xlabel(\"Optimization #\",fontsize=15)\n",
    "plt.ylabel(\"Accuracy\",fontsize=15)\n",
    "plt.legend(['Accuracy','F1-score'])\n",
    "plt.ylim(0,0.8)\n",
    "plt.show()"
   ]
  },
  {
   "cell_type": "markdown",
   "metadata": {},
   "source": [
    "### How number of max iterations impact performance "
   ]
  },
  {
   "cell_type": "code",
   "execution_count": 145,
   "metadata": {},
   "outputs": [
    {
     "name": "stdout",
     "output_type": "stream",
     "text": [
      "Done for iterations:  250\n",
      "Done for iterations:  500\n",
      "Done for iterations:  750\n",
      "Done for iterations:  1000\n",
      "Done for iterations:  1250\n",
      "Done for iterations:  1500\n",
      "Done for iterations:  1750\n",
      "Done for iterations:  2000\n",
      "Done for iterations:  2250\n",
      "Done for iterations:  2500\n",
      "Done for iterations:  2750\n",
      "Done for iterations:  3000\n",
      "Done for iterations:  3250\n",
      "Done for iterations:  3500\n",
      "Done for iterations:  3750\n",
      "Done for iterations:  4000\n",
      "Done for iterations:  4250\n",
      "Done for iterations:  4500\n",
      "Done for iterations:  4750\n",
      "Done for iterations:  5000\n",
      "Done for iterations:  5250\n",
      "Done for iterations:  5500\n",
      "Done for iterations:  5750\n",
      "Done for iterations:  6000\n",
      "Done for iterations:  6250\n",
      "Done for iterations:  6500\n",
      "Done for iterations:  6750\n",
      "Done for iterations:  7000\n",
      "Done for iterations:  7250\n",
      "Done for iterations:  7500\n"
     ]
    }
   ],
   "source": [
    "iteration_accuracy=[]\n",
    "iteration_f1=[]\n",
    "iteration_time=[]\n",
    "iterations=[250*i for i in range(1,31)]\n",
    "nn = NN_1HL(hidden_layer_size=5)\n",
    "\n",
    "for i in iterations:\n",
    "    t1=time.time()\n",
    "    nn.fit_simplex(X_train, y_train,maxiter=i)\n",
    "    t2=time.time()\n",
    "    iteration_time.append(t2-t1)\n",
    "    iteration_accuracy.append(accuracy_score(y_val, nn.predict(X_val)))\n",
    "    iteration_f1.append(f1_score(y_val, nn.predict(X_val)))\n",
    "    print(\"Done for iterations: \",i)"
   ]
  },
  {
   "cell_type": "code",
   "execution_count": 154,
   "metadata": {},
   "outputs": [
    {
     "data": {
      "image/png": "[encoded data removed]",
      "text/plain": [
       "<matplotlib.figure.Figure at 0x1388125a978>"
      ]
     },
     "metadata": {},
     "output_type": "display_data"
    }
   ],
   "source": [
    "plt.figure(figsize=(6,4))\n",
    "plt.title(\"Neural net performance with hill climbing \\nfor various max iterations\",fontsize=15)\n",
    "plt.plot(iterations,iteration_accuracy,'bo',ls='--',c='red')\n",
    "plt.plot(iterations,iteration_f1,'bo',ls='-',c='blue')\n",
    "plt.grid(True)\n",
    "plt.xticks(fontsize=12)\n",
    "plt.yticks(fontsize=12)\n",
    "plt.xlabel(\"Max iterations\",fontsize=15)\n",
    "plt.ylabel(\"Neural net performance\",fontsize=15)\n",
    "plt.legend(['Accuracy','F1-score'],fontsize=13)\n",
    "plt.ylim(0.4,0.8)\n",
    "plt.show()"
   ]
  },
  {
   "cell_type": "code",
   "execution_count": 155,
   "metadata": {},
   "outputs": [
    {
     "data": {
      "image/png": "[encoded data removed]",
      "text/plain": [
       "<matplotlib.figure.Figure at 0x13880786f98>"
      ]
     },
     "metadata": {},
     "output_type": "display_data"
    }
   ],
   "source": [
    "plt.figure(figsize=(6,4))\n",
    "plt.title(\"Training time with hill climbing for various max iterations)\",fontsize=15)\n",
    "plt.plot(iterations,iteration_time,'bo',ls='--',c='k')\n",
    "plt.grid(True)\n",
    "plt.xticks(fontsize=12)\n",
    "plt.yticks(fontsize=12)\n",
    "plt.xlabel(\"Max iterations\",fontsize=15)\n",
    "plt.ylabel(\"Time taken for training (s)\",fontsize=15)\n",
    "#plt.ylim(0.4,0.8)\n",
    "plt.show()"
   ]
  },
  {
   "cell_type": "markdown",
   "metadata": {},
   "source": [
    "## With <span style=color:blue>simulated annealing</span> algorithm"
   ]
  },
  {
   "cell_type": "code",
   "execution_count": 47,
   "metadata": {
    "scrolled": false
   },
   "outputs": [
    {
     "name": "stdout",
     "output_type": "stream",
     "text": [
      "warning: basinhopping: local minimization failure\n",
      "basinhopping step 0: f 0.746594\n",
      "basinhopping step 1: f 0.746587 trial_f 0.746587 accepted 1  lowest_f 0.746587\n",
      "found new global minimum on step 1 with function value 0.746587\n",
      "basinhopping step 2: f 0.746589 trial_f 0.746589 accepted 1  lowest_f 0.746587\n",
      "basinhopping step 3: f 0.746588 trial_f 0.746588 accepted 1  lowest_f 0.746587\n",
      "basinhopping step 4: f 0.746586 trial_f 0.746586 accepted 1  lowest_f 0.746586\n",
      "found new global minimum on step 4 with function value 0.746586\n",
      "basinhopping step 5: f 0.746587 trial_f 0.746587 accepted 1  lowest_f 0.746586\n",
      "basinhopping step 6: f 0.746588 trial_f 0.746588 accepted 1  lowest_f 0.746586\n",
      "basinhopping step 7: f 0.746589 trial_f 0.746589 accepted 1  lowest_f 0.746586\n",
      "basinhopping step 8: f 0.746585 trial_f 0.746585 accepted 1  lowest_f 0.746585\n",
      "found new global minimum on step 8 with function value 0.746585\n",
      "basinhopping step 9: f 0.746584 trial_f 0.746584 accepted 1  lowest_f 0.746584\n",
      "found new global minimum on step 9 with function value 0.746584\n",
      "basinhopping step 10: f 0.746584 trial_f 0.746584 accepted 1  lowest_f 0.746584\n",
      "found new global minimum on step 10 with function value 0.746584\n",
      "                        fun: 0.7465835845731941\n",
      " lowest_optimization_result:       fun: 0.7465835845731941\n",
      " hess_inv: array([[ 1836.99854824, -1706.46854686,  2882.80263497, ...,\n",
      "           10.75297404,   -86.34644824,    58.49112189],\n",
      "       [-1706.46854686,  1624.58993666, -2682.78966305, ...,\n",
      "           -7.33932474,    41.41054095,   -32.84079832],\n",
      "       [ 2882.80263497, -2682.78966305,  4527.7510696 , ...,\n",
      "           16.69791346,  -131.86939713,    89.87499843],\n",
      "       ...,\n",
      "       [   10.75297404,    -7.33932474,    16.69791346, ...,\n",
      "           41.26684745,    18.10033211,   -11.43792872],\n",
      "       [  -86.34644824,    41.41054095,  -131.86939713, ...,\n",
      "           18.10033211,   158.32154564,   -79.92407825],\n",
      "       [   58.49112189,   -32.84079832,    89.87499843, ...,\n",
      "          -11.43792872,   -79.92407825,   125.5586911 ]])\n",
      "      jac: array([ 2.36928463e-06,  5.49107790e-06,  3.18884850e-06, -1.93715096e-06,\n",
      "       -9.46223736e-07, -5.51342964e-07,  1.48266554e-06,  1.11013651e-06,\n",
      "        4.55230474e-06,  2.08616257e-06, -2.57045031e-06,  0.00000000e+00,\n",
      "        0.00000000e+00,  0.00000000e+00,  0.00000000e+00,  0.00000000e+00,\n",
      "        0.00000000e+00,  0.00000000e+00,  0.00000000e+00,  0.00000000e+00,\n",
      "        0.00000000e+00,  0.00000000e+00,  0.00000000e+00,  0.00000000e+00,\n",
      "        0.00000000e+00,  0.00000000e+00,  0.00000000e+00,  0.00000000e+00,\n",
      "        0.00000000e+00,  0.00000000e+00,  0.00000000e+00,  0.00000000e+00,\n",
      "        0.00000000e+00,  3.01003456e-06,  6.92903996e-07,  1.10268593e-06,\n",
      "       -1.23679638e-06,  3.68803740e-06,  1.78813934e-07, -1.98930502e-06,\n",
      "       -3.79979610e-07, -5.92321157e-06,  4.64171171e-06, -3.56137753e-06,\n",
      "        2.23517418e-07, -4.84287739e-07, -1.49011612e-08,  5.96046448e-08,\n",
      "        9.68575478e-08,  3.05473804e-07,  9.68575478e-08, -1.41561031e-07,\n",
      "       -3.35276127e-07, -2.08616257e-07,  1.78813934e-07, -5.91576099e-06,\n",
      "        8.01682472e-06,  2.01910734e-06,  6.48200512e-07, -3.65078449e-06,\n",
      "        3.54647636e-06,  4.46289778e-06, -6.09457493e-06,  2.32458115e-06,\n",
      "        8.19563866e-08, -1.31130219e-06, -9.08970833e-07])\n",
      "  message: 'Optimization terminated successfully.'\n",
      "     nfev: 9246\n",
      "      nit: 133\n",
      "     njev: 134\n",
      "   status: 0\n",
      "  success: True\n",
      "        x: array([ 1.95486137e+03,  1.98355159e+02,  9.98124599e+01, -3.69803543e+02,\n",
      "        1.76389923e+03, -7.05258266e-01, -5.53051612e+02,  2.91509839e+02,\n",
      "       -1.49790092e+03,  6.34244333e+02, -3.37135821e+02, -2.07052056e+03,\n",
      "       -2.05242447e+04,  2.00174524e+03, -1.32145120e+04,  3.75627512e+03,\n",
      "       -1.91612409e+04,  3.90979154e+03, -3.60792222e+03,  2.04720775e+03,\n",
      "       -5.30387945e+02, -1.36377903e+04, -5.74205713e+03,  5.67797542e+03,\n",
      "        1.19819769e+04, -6.96089967e+03,  9.72341059e+03,  1.40544071e+04,\n",
      "        5.85822260e+03, -3.75235634e+03, -9.93125581e+03,  9.16042467e+03,\n",
      "       -1.97791647e+03,  3.13661739e+00,  1.03148101e-01, -3.56453019e-01,\n",
      "        1.69223363e-02, -2.06786579e+00,  6.81455454e-01,  8.54406812e-01,\n",
      "        2.79144683e-01,  1.80309263e+00, -8.93603505e-01,  7.69737800e-02,\n",
      "        1.57946334e+04,  2.05316771e+03,  5.28064162e+03, -6.16587988e+03,\n",
      "        6.89509367e+03, -2.64759303e+03, -2.16525190e+03,  1.14083530e+02,\n",
      "        3.50614458e+03, -1.51355178e+03, -5.41854717e+03,  4.64313814e+00,\n",
      "       -4.32936974e+00, -2.56290144e+00, -1.41174910e+00, -4.02419860e+00,\n",
      "        4.32995029e+00, -4.64346484e+00,  4.32959066e+00,  2.56301334e+00,\n",
      "        1.41169747e+00,  4.02375754e+00, -4.32946181e+00])\n",
      "                    message: ['requested number of basinhopping iterations completed successfully']\n",
      "      minimization_failures: 1\n",
      "                       nfev: 119647\n",
      "                        nit: 10\n",
      "                       njev: 1734\n",
      "                          x: array([ 1.95486137e+03,  1.98355159e+02,  9.98124599e+01, -3.69803543e+02,\n",
      "        1.76389923e+03, -7.05258266e-01, -5.53051612e+02,  2.91509839e+02,\n",
      "       -1.49790092e+03,  6.34244333e+02, -3.37135821e+02, -2.07052056e+03,\n",
      "       -2.05242447e+04,  2.00174524e+03, -1.32145120e+04,  3.75627512e+03,\n",
      "       -1.91612409e+04,  3.90979154e+03, -3.60792222e+03,  2.04720775e+03,\n",
      "       -5.30387945e+02, -1.36377903e+04, -5.74205713e+03,  5.67797542e+03,\n",
      "        1.19819769e+04, -6.96089967e+03,  9.72341059e+03,  1.40544071e+04,\n",
      "        5.85822260e+03, -3.75235634e+03, -9.93125581e+03,  9.16042467e+03,\n",
      "       -1.97791647e+03,  3.13661739e+00,  1.03148101e-01, -3.56453019e-01,\n",
      "        1.69223363e-02, -2.06786579e+00,  6.81455454e-01,  8.54406812e-01,\n",
      "        2.79144683e-01,  1.80309263e+00, -8.93603505e-01,  7.69737800e-02,\n",
      "        1.57946334e+04,  2.05316771e+03,  5.28064162e+03, -6.16587988e+03,\n",
      "        6.89509367e+03, -2.64759303e+03, -2.16525190e+03,  1.14083530e+02,\n",
      "        3.50614458e+03, -1.51355178e+03, -5.41854717e+03,  4.64313814e+00,\n",
      "       -4.32936974e+00, -2.56290144e+00, -1.41174910e+00, -4.02419860e+00,\n",
      "        4.32995029e+00, -4.64346484e+00,  4.32959066e+00,  2.56301334e+00,\n",
      "        1.41169747e+00,  4.02375754e+00, -4.32946181e+00])\n",
      "Accuracy of classification: 0.75375\n",
      "F1 score of classification: 0.7546699875466999\n"
     ]
    }
   ],
   "source": [
    "nn = NN_1HL(hidden_layer_size=5)\n",
    "nn.fit_anneal(X_train, y_train,temp=100,status=True,maxiter=10)\n",
    "print(\"Accuracy of classification: \"+str(accuracy_score(y_test, nn.predict(X_test))))\n",
    "print(\"F1 score of classification: \"+str(f1_score(y_test, nn.predict(X_test))))"
   ]
  },
  {
   "cell_type": "markdown",
   "metadata": {},
   "source": [
    "### Fit with <span style=color:blue>differential evolution</span> algorithm and show accuracy and F1 score"
   ]
  },
  {
   "cell_type": "code",
   "execution_count": 172,
   "metadata": {
    "scrolled": false
   },
   "outputs": [
    {
     "name": "stdout",
     "output_type": "stream",
     "text": [
      "differential_evolution step 1: f(x)= 1.35419\n",
      "differential_evolution step 2: f(x)= 1.33874\n",
      "differential_evolution step 3: f(x)= 1.31077\n",
      "differential_evolution step 4: f(x)= 1.31077\n",
      "differential_evolution step 5: f(x)= 1.31077\n",
      "differential_evolution step 6: f(x)= 1.31077\n",
      "differential_evolution step 7: f(x)= 1.31077\n",
      "differential_evolution step 8: f(x)= 1.31077\n",
      "differential_evolution step 9: f(x)= 1.31077\n",
      "differential_evolution step 10: f(x)= 1.30982\n",
      "differential_evolution step 11: f(x)= 1.25436\n",
      "differential_evolution step 12: f(x)= 1.25436\n",
      "differential_evolution step 13: f(x)= 1.24287\n",
      "differential_evolution step 14: f(x)= 1.24287\n",
      "differential_evolution step 15: f(x)= 1.24287\n",
      "differential_evolution step 16: f(x)= 1.20672\n",
      "differential_evolution step 17: f(x)= 1.20672\n",
      "differential_evolution step 18: f(x)= 1.20672\n",
      "differential_evolution step 19: f(x)= 1.20672\n",
      "differential_evolution step 20: f(x)= 1.20672\n",
      "differential_evolution step 21: f(x)= 1.20672\n",
      "differential_evolution step 22: f(x)= 1.20672\n",
      "differential_evolution step 23: f(x)= 1.20672\n",
      "differential_evolution step 24: f(x)= 1.20672\n",
      "differential_evolution step 25: f(x)= 1.20672\n",
      "differential_evolution step 26: f(x)= 1.20672\n",
      "differential_evolution step 27: f(x)= 1.20672\n",
      "differential_evolution step 28: f(x)= 1.18283\n",
      "differential_evolution step 29: f(x)= 1.18283\n",
      "differential_evolution step 30: f(x)= 1.18283\n",
      "differential_evolution step 31: f(x)= 1.18283\n",
      "differential_evolution step 32: f(x)= 1.18283\n",
      "differential_evolution step 33: f(x)= 1.18283\n",
      "differential_evolution step 34: f(x)= 1.18283\n",
      "differential_evolution step 35: f(x)= 1.18283\n",
      "differential_evolution step 36: f(x)= 1.18283\n",
      "differential_evolution step 37: f(x)= 1.18283\n",
      "differential_evolution step 38: f(x)= 1.17838\n",
      "differential_evolution step 39: f(x)= 1.17838\n",
      "differential_evolution step 40: f(x)= 1.17838\n",
      "differential_evolution step 41: f(x)= 1.17838\n",
      "differential_evolution step 42: f(x)= 1.17385\n",
      "differential_evolution step 43: f(x)= 1.17385\n",
      "differential_evolution step 44: f(x)= 1.17385\n",
      "differential_evolution step 45: f(x)= 1.17385\n",
      "differential_evolution step 46: f(x)= 1.17385\n",
      "differential_evolution step 47: f(x)= 1.17385\n",
      "differential_evolution step 48: f(x)= 1.17385\n",
      "differential_evolution step 49: f(x)= 1.17385\n",
      "differential_evolution step 50: f(x)= 1.16604\n",
      "differential_evolution step 51: f(x)= 1.16604\n",
      "differential_evolution step 52: f(x)= 1.16604\n",
      "differential_evolution step 53: f(x)= 1.16604\n",
      "differential_evolution step 54: f(x)= 1.13551\n",
      "differential_evolution step 55: f(x)= 1.13551\n",
      "differential_evolution step 56: f(x)= 1.13551\n",
      "differential_evolution step 57: f(x)= 1.13551\n",
      "differential_evolution step 58: f(x)= 1.13551\n",
      "differential_evolution step 59: f(x)= 1.13551\n",
      "differential_evolution step 60: f(x)= 1.13551\n",
      "differential_evolution step 61: f(x)= 1.13551\n",
      "differential_evolution step 62: f(x)= 1.13551\n",
      "differential_evolution step 63: f(x)= 1.13551\n",
      "differential_evolution step 64: f(x)= 1.13551\n",
      "differential_evolution step 65: f(x)= 1.13551\n",
      "differential_evolution step 66: f(x)= 1.13551\n",
      "differential_evolution step 67: f(x)= 1.13551\n",
      "differential_evolution step 68: f(x)= 1.13551\n",
      "differential_evolution step 69: f(x)= 1.13551\n",
      "differential_evolution step 70: f(x)= 1.13217\n",
      "differential_evolution step 71: f(x)= 1.13217\n",
      "differential_evolution step 72: f(x)= 1.13217\n",
      "differential_evolution step 73: f(x)= 1.13217\n",
      "differential_evolution step 74: f(x)= 1.13217\n",
      "differential_evolution step 75: f(x)= 1.13217\n",
      "differential_evolution step 76: f(x)= 1.13217\n",
      "differential_evolution step 77: f(x)= 1.11613\n",
      "differential_evolution step 78: f(x)= 1.11613\n",
      "differential_evolution step 79: f(x)= 1.11613\n",
      "differential_evolution step 80: f(x)= 1.11613\n",
      "differential_evolution step 81: f(x)= 1.11613\n",
      "differential_evolution step 82: f(x)= 1.11613\n",
      "differential_evolution step 83: f(x)= 1.11613\n",
      "differential_evolution step 84: f(x)= 1.11613\n",
      "differential_evolution step 85: f(x)= 1.11613\n",
      "differential_evolution step 86: f(x)= 1.11613\n",
      "differential_evolution step 87: f(x)= 1.11613\n",
      "differential_evolution step 88: f(x)= 1.11613\n",
      "differential_evolution step 89: f(x)= 1.11613\n",
      "differential_evolution step 90: f(x)= 1.11613\n",
      "differential_evolution step 91: f(x)= 1.11613\n",
      "differential_evolution step 92: f(x)= 1.11613\n",
      "differential_evolution step 93: f(x)= 1.11613\n",
      "differential_evolution step 94: f(x)= 1.11613\n",
      "differential_evolution step 95: f(x)= 1.11555\n",
      "differential_evolution step 96: f(x)= 1.11555\n",
      "differential_evolution step 97: f(x)= 1.11555\n",
      "differential_evolution step 98: f(x)= 1.11555\n",
      "differential_evolution step 99: f(x)= 1.11555\n",
      "differential_evolution step 100: f(x)= 1.11555\n",
      "     fun: 0.7612112985659093\n",
      "     jac: array([-2.53119747e-03,  3.36619621e-05,  1.95121697e-04, -1.97575289e-04,\n",
      "       -3.72023523e-03, -1.55397917e-04,  1.53388413e-04, -1.28608235e-04,\n",
      "        7.37562234e-03, -7.77156117e-06,  1.43340895e-04, -2.38553621e-04,\n",
      "        2.37965203e-04,  9.73443548e-05, -2.28700392e-03,  2.40429898e-04,\n",
      "       -2.80186985e-04,  5.11479747e-05,  4.79727369e-05, -9.66338121e-05,\n",
      "       -3.10397263e-03, -4.15881773e-03,  2.91344726e-04, -1.88284943e-03,\n",
      "        2.66118239e-03,  2.47335485e-04, -1.00130459e-02,  1.00341957e-04,\n",
      "        1.87516669e-05, -3.96142008e-03,  6.12399020e-05, -2.88435942e-05,\n",
      "        1.23023813e-04,  1.12889698e-03, -6.64135413e-04,  1.92553751e-03,\n",
      "        2.14606111e-05, -1.87294624e-04,  4.54785098e-03, -1.13542509e-04,\n",
      "        1.19848576e-04,  2.58115751e-04, -4.71844785e-06, -1.07913678e-05,\n",
      "        1.72257542e-02, -1.20115029e-04, -2.03725925e-04, -3.75377507e-04,\n",
      "        2.94886338e-04, -2.64566147e-05, -2.22832863e-04, -3.79696274e-06,\n",
      "        7.32636174e-05,  5.58664226e-05,  3.85469434e-05,  5.55000490e-05,\n",
      "       -1.09651399e-02, -1.22550081e-02,  1.13815513e-02,  1.22057919e-02,\n",
      "       -1.26699540e-02, -5.51114709e-05,  1.09654397e-02,  1.22551080e-02,\n",
      "       -1.13813625e-02, -1.22056920e-02,  1.26700761e-02])\n",
      " message: 'Maximum number of iterations has been exceeded.'\n",
      "    nfev: 114289\n",
      "     nit: 100\n",
      " success: False\n",
      "       x: array([ 2.        , -1.97851483, -1.01044712,  0.43118983,  2.        ,\n",
      "       -0.17102561,  1.36564942,  0.5583995 , -2.        , -2.        ,\n",
      "        1.36245848, -1.70197434,  1.46347923,  1.12385756,  2.        ,\n",
      "        1.08771886,  0.10595663, -0.83598818,  1.99999972,  1.4371742 ,\n",
      "        2.        ,  2.        ,  0.65984257,  2.        , -2.        ,\n",
      "       -0.00276202,  2.        , -0.71317636, -1.78345545,  2.        ,\n",
      "        0.42868596, -1.71502014,  0.9793306 , -2.        ,  2.        ,\n",
      "       -2.        ,  1.94558496, -0.95308636, -2.        ,  0.57125071,\n",
      "       -0.53524301, -0.92058358, -1.23206528,  0.65298742, -2.        ,\n",
      "       -0.89412783,  1.31514892, -1.51241377,  0.47344608, -0.54313059,\n",
      "        1.92279111,  0.22325463,  1.4052811 , -0.37751166,  0.00764   ,\n",
      "       -1.15500458,  2.        ,  2.        , -2.        , -2.        ,\n",
      "        2.        ,  1.15500697, -2.        , -2.        ,  2.        ,\n",
      "        2.        , -2.        ])\n",
      "Accuracy of classification: 0.785\n",
      "F1 score of classification: 0.7650273224043717\n"
     ]
    }
   ],
   "source": [
    "nn = NN_1HL(hidden_layer_size=5,maxiter=100)\n",
    "nn.fit_de(X_train, y_train,bound=2,status=True)\n",
    "print(\"Accuracy of classification: \"+str(accuracy_score(y_test, nn.predict(X_test))))\n",
    "print(\"F1 score of classification: \"+str(f1_score(y_test, nn.predict(X_test))))"
   ]
  },
  {
   "cell_type": "markdown",
   "metadata": {},
   "source": [
    "### Try various optimization rotuines from `scipy.optimize()`"
   ]
  },
  {
   "cell_type": "code",
   "execution_count": 175,
   "metadata": {},
   "outputs": [],
   "source": [
    "solvers=['BFGS', 'L-BFGS-B', 'TNC', 'COBYLA', 'SLSQP']"
   ]
  },
  {
   "cell_type": "code",
   "execution_count": 176,
   "metadata": {},
   "outputs": [
    {
     "name": "stdout",
     "output_type": "stream",
     "text": [
      "Accuracy of classification: using BFGS: 0.735\n",
      "F1-score of classification: using BFGS: 0.7282051282051282\n",
      "================================================================================\n",
      "Accuracy of classification: using L-BFGS-B: 0.735\n",
      "F1-score of classification: using L-BFGS-B: 0.707182320441989\n",
      "================================================================================\n",
      "Accuracy of classification: using TNC: 0.765\n",
      "F1-score of classification: using TNC: 0.7614213197969543\n",
      "================================================================================\n",
      "Accuracy of classification: using COBYLA: 0.72\n",
      "F1-score of classification: using COBYLA: 0.6956521739130435\n",
      "================================================================================\n",
      "Accuracy of classification: using SLSQP: 0.745\n",
      "F1-score of classification: using SLSQP: 0.7437185929648242\n",
      "================================================================================\n"
     ]
    }
   ],
   "source": [
    "for s in solvers:\n",
    "    nn = NN_1HL(opti_method=s,maxiter=1000)\n",
    "    nn.fit(X_train, y_train)\n",
    "    print(f\"Accuracy of classification: using {s}: \"+str(accuracy_score(y_test, nn.predict(X_test))))\n",
    "    print(f\"F1-score of classification: using {s}: \"+str(f1_score(y_test, nn.predict(X_test))))\n",
    "    print(\"=\"*80)"
   ]
  },
  {
   "cell_type": "markdown",
   "metadata": {},
   "source": [
    "## Deep neural net (using `keras`)"
   ]
  },
  {
   "cell_type": "code",
   "execution_count": 180,
   "metadata": {},
   "outputs": [
    {
     "name": "stderr",
     "output_type": "stream",
     "text": [
      "Using TensorFlow backend.\n"
     ]
    }
   ],
   "source": [
    "import keras\n",
    "from keras.utils import np_utils\n",
    "from keras.models import Sequential\n",
    "from keras.layers import Dense, Dropout"
   ]
  },
  {
   "cell_type": "code",
   "execution_count": 182,
   "metadata": {},
   "outputs": [],
   "source": [
    "n_input=X_train.shape[0]\n",
    "num_classes = 2\n",
    "input_dim=X_train.shape[1]"
   ]
  },
  {
   "cell_type": "markdown",
   "metadata": {},
   "source": [
    "### Function to construct 2-hidden-layer Keras model"
   ]
  },
  {
   "cell_type": "code",
   "execution_count": 226,
   "metadata": {},
   "outputs": [],
   "source": [
    "def make_2layer_NN(input_dim, num_classes, neuron_layer_1=5, neuron_layer_2=5, dropout_prob=0.25, \\\n",
    "                  activation_func='relu', learning_rate=0.01,optimizer='SGD'):\n",
    "    \"\"\"\n",
    "    Creates a 2-hidden-layer Keras Neural Network model by adding densely connected layers, \\\n",
    "    dropout layers, and an output layer with 'softmax' activation with appropriate number of nodes for classification\n",
    "    \"\"\"\n",
    "    model = Sequential()\n",
    "    model.add(Dense(neuron_layer_1, input_shape=(input_dim,),activation=activation_func))\n",
    "    model.add(Dropout(dropout_prob))\n",
    "    model.add(Dense(neuron_layer_2,activation=activation_func))\n",
    "    model.add(Dropout(dropout_prob))\n",
    "    # Softmax activation for the last layer for classification\n",
    "    model.add(Dense(1, activation='sigmoid'))\n",
    "    \n",
    "    if optimizer=='SGD':\n",
    "        optimizer=keras.optimizers.SGD(lr=learning_rate)\n",
    "    if optimizer=='Adam':\n",
    "        optimizer=keras.optimizers.Adam(lr=learning_rate)\n",
    "    if optimizer=='RMSprop':\n",
    "        optimizer=keras.optimizers.RMSprop(lr=learning_rate)\n",
    "    \n",
    "    model.compile(loss='binary_crossentropy', optimizer=optimizer,metrics=['accuracy'])\n",
    "    \n",
    "    return model"
   ]
  },
  {
   "cell_type": "markdown",
   "metadata": {},
   "source": [
    "### Function to construct 1-hidden-layer Keras model"
   ]
  },
  {
   "cell_type": "code",
   "execution_count": 225,
   "metadata": {},
   "outputs": [],
   "source": [
    "def make_1layer_NN(input_dim, num_classes, neuron_layer_1=5, dropout_prob=0.25, \\\n",
    "                  activation_func='relu', learning_rate=0.01,optimizer='SGD'):\n",
    "    \"\"\"\n",
    "    Creates a 2-hidden-layer Keras Neural Network model by adding densely connected layers, \\\n",
    "    dropout layers, and an output layer with 'softmax' activation with appropriate number of nodes for classification\n",
    "    \"\"\"\n",
    "    model = Sequential()\n",
    "    model.add(Dense(neuron_layer_1, input_shape=(input_dim,),activation=activation_func))\n",
    "    model.add(Dropout(dropout_prob))\n",
    "    # Softmax activation for the last layer for classification\n",
    "    model.add(Dense(1, activation='sigmoid'))\n",
    "    \n",
    "    if optimizer=='SGD':\n",
    "        optimizer=keras.optimizers.SGD(lr=learning_rate)\n",
    "    if optimizer=='Adam':\n",
    "        optimizer=keras.optimizers.Adam(lr=learning_rate)\n",
    "    if optimizer=='RMSprop':\n",
    "        optimizer=keras.optimizers.RMSprop(lr=learning_rate)\n",
    "    \n",
    "    model.compile(loss='binary_crossentropy', optimizer=optimizer,metrics=['accuracy'])\n",
    "    \n",
    "    return model"
   ]
  },
  {
   "cell_type": "markdown",
   "metadata": {},
   "source": [
    "### Function to run the NN model"
   ]
  },
  {
   "cell_type": "code",
   "execution_count": 195,
   "metadata": {},
   "outputs": [],
   "source": [
    "def run_NN(model,X_train,y_train,num_epochs=200,batch_size=16,plot_loss=False,verbosity=0):\n",
    "    #save best model as checkpointer\n",
    "    from keras.callbacks import ModelCheckpoint\n",
    "    checkpointer = ModelCheckpoint(filepath='model.weights.best.hdf5', \n",
    "                                   verbose=verbosity, save_best_only=True)\n",
    "    \n",
    "    # train the model\n",
    "    hist = model.fit(X_train,y_train, batch_size=batch_size, epochs=num_epochs,verbose=verbosity, shuffle=False)\n",
    "    \n",
    "    if plot_loss:\n",
    "        plt.plot(hist.history['acc'],color='red')\n",
    "        plt.title(\"Training set accuracy with epochs\",fontsize=20)\n",
    "        plt.grid(True)\n",
    "        plt.xlabel(\"Epochs\",fontsize=16)\n",
    "        plt.show()\n",
    "    \n",
    "    return hist"
   ]
  },
  {
   "cell_type": "markdown",
   "metadata": {},
   "source": [
    "### Function to test the NN model"
   ]
  },
  {
   "cell_type": "code",
   "execution_count": 196,
   "metadata": {},
   "outputs": [],
   "source": [
    "def test_NN(hist,X_test,y_test):\n",
    "    \"\"\"\n",
    "    Test a NN model with test data set for accuracy\n",
    "    hist: A History object generated by the Keras model fitting process\n",
    "    \"\"\"\n",
    "    score=hist.model.evaluate(X_test, y_test,verbose=0)[1]\n",
    "    return score"
   ]
  },
  {
   "cell_type": "markdown",
   "metadata": {},
   "source": [
    "### Run 1-layer model (same number of neurons as used in randomized algorithms)"
   ]
  },
  {
   "cell_type": "code",
   "execution_count": 245,
   "metadata": {},
   "outputs": [],
   "source": [
    "nn_model=make_1layer_NN(input_dim=input_dim,num_classes=num_classes,dropout_prob=0.2,learning_rate=0.0001,\n",
    "                      neuron_layer_1=5,optimizer='Adam')"
   ]
  },
  {
   "cell_type": "code",
   "execution_count": 246,
   "metadata": {},
   "outputs": [
    {
     "data": {
      "image/png": "[encoded data removed]",
      "text/plain": [
       "<matplotlib.figure.Figure at 0x1ffbed70ac8>"
      ]
     },
     "metadata": {},
     "output_type": "display_data"
    }
   ],
   "source": [
    "hist=run_NN(nn_model,X_train_scaled,y_train_scaled,verbosity=0,batch_size=16,\n",
    "            num_epochs=1000,plot_loss=True)"
   ]
  },
  {
   "cell_type": "code",
   "execution_count": 247,
   "metadata": {},
   "outputs": [
    {
     "name": "stdout",
     "output_type": "stream",
     "text": [
      "1-layer NN (using backpropagation) accuracy:  0.75\n"
     ]
    }
   ],
   "source": [
    "score=test_NN(hist,X_test_scaled,y_test_scaled)\n",
    "print(\"1-layer NN (using backpropagation) accuracy: \",score)"
   ]
  },
  {
   "cell_type": "markdown",
   "metadata": {},
   "source": [
    "### Run 2-layer model with more neurons"
   ]
  },
  {
   "cell_type": "code",
   "execution_count": 248,
   "metadata": {},
   "outputs": [],
   "source": [
    "nn_model2=make_2layer_NN(input_dim=input_dim,num_classes=num_classes,dropout_prob=0.2,learning_rate=0.0001,\n",
    "                      neuron_layer_1=50,neuron_layer_2=25,optimizer='Adam')"
   ]
  },
  {
   "cell_type": "code",
   "execution_count": 249,
   "metadata": {},
   "outputs": [
    {
     "data": {
      "image/png": "[encoded data removed]",
      "text/plain": [
       "<matplotlib.figure.Figure at 0x1ffc06a0be0>"
      ]
     },
     "metadata": {},
     "output_type": "display_data"
    }
   ],
   "source": [
    "hist2=run_NN(nn_model2,X_train_scaled,y_train_scaled,verbosity=0,batch_size=16,\n",
    "            num_epochs=1000,plot_loss=True)"
   ]
  },
  {
   "cell_type": "code",
   "execution_count": 250,
   "metadata": {},
   "outputs": [
    {
     "name": "stdout",
     "output_type": "stream",
     "text": [
      "2-layer NN with more neurons per layer (using backpropagation) accuracy:  0.805\n"
     ]
    }
   ],
   "source": [
    "score=test_NN(hist2,X_test_scaled,y_test_scaled)\n",
    "print(\"2-layer NN with more neurons per layer (using backpropagation) accuracy: \",score)"
   ]
  }
 ],
 "metadata": {
  "kernelspec": {
   "display_name": "Python 3",
   "language": "python",
   "name": "python3"
  },
  "language_info": {
   "codemirror_mode": {
    "name": "ipython",
    "version": 3
   },
   "file_extension": ".py",
   "mimetype": "text/x-python",
   "name": "python",
   "nbconvert_exporter": "python",
   "pygments_lexer": "ipython3",
   "version": "3.6.2"
  },
  "latex_envs": {
   "LaTeX_envs_menu_present": true,
   "autoclose": false,
   "autocomplete": true,
   "bibliofile": "biblio.bib",
   "cite_by": "apalike",
   "current_citInitial": 1,
   "eqLabelWithNumbers": true,
   "eqNumInitial": 1,
   "hotkeys": {
    "equation": "Ctrl-E",
    "itemize": "Ctrl-I"
   },
   "labels_anchors": false,
   "latex_user_defs": false,
   "report_style_numbering": false,
   "user_envs_cfg": false
  }
 },
 "nbformat": 4,
 "nbformat_minor": 2
}
